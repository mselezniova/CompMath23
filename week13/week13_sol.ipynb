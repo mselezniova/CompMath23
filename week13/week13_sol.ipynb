{
 "cells": [
  {
   "cell_type": "code",
   "execution_count": 1,
   "id": "2d763a58",
   "metadata": {},
   "outputs": [],
   "source": [
    "import sympy as sym\n",
    "\n",
    "sym.init_printing()"
   ]
  },
  {
   "cell_type": "markdown",
   "id": "5e70b400",
   "metadata": {},
   "source": [
    "## Exercise 1: Symbolic calculation\n",
    "\n",
    "**a)** Calculate the sum $1 + \\dfrac{1}{2} + \\dfrac{1}{3} + \\dfrac{1}{4} + \\dots + \\dfrac{1}{100}$ symbolically as an exact fraction, and also as a floating point number. You can use ```sympy.Sum``` function to define the sum, then use ```doit``` method to evaluate the sum symbolically, and ```evalf``` method to evaluate the sum as a floating point number."
   ]
  },
  {
   "cell_type": "code",
   "execution_count": 2,
   "id": "905d2383",
   "metadata": {},
   "outputs": [
    {
     "data": {
      "image/png": "[encoded data removed]",
      "text/latex": [
       "$\\displaystyle \\sum_{k=1}^{100} \\frac{1}{k}$"
      ],
      "text/plain": [
       " 100   \n",
       " ____  \n",
       " ╲     \n",
       "  ╲    \n",
       "   ╲  1\n",
       "   ╱  ─\n",
       "  ╱   k\n",
       " ╱     \n",
       " ‾‾‾‾  \n",
       "k = 1  "
      ]
     },
     "execution_count": 2,
     "metadata": {},
     "output_type": "execute_result"
    }
   ],
   "source": [
    "# We need to define all the symbols that we use in Sympy \n",
    "# For now, we define symbols x, n and k\n",
    "x,n,k = sym.symbols(('x','n','k'))\n",
    "\n",
    "# Define a sum as a sympy expression (not evaluated to any number by defaul)\n",
    "expr = sym.Sum(1/k, (k,1,100))\n",
    "\n",
    "expr"
   ]
  },
  {
   "cell_type": "code",
   "execution_count": 3,
   "id": "a6361d8f",
   "metadata": {},
   "outputs": [
    {
     "data": {
      "image/png": "[encoded data removed]",
      "text/latex": [
       "$\\displaystyle \\frac{14466636279520351160221518043104131447711}{2788815009188499086581352357412492142272}$"
      ],
      "text/plain": [
       "14466636279520351160221518043104131447711\n",
       "─────────────────────────────────────────\n",
       " 2788815009188499086581352357412492142272"
      ]
     },
     "execution_count": 3,
     "metadata": {},
     "output_type": "execute_result"
    }
   ],
   "source": [
    "# We use doit() method to evaluate a sympy expression symbolically (as an exact fraction)\n",
    "expr.doit()"
   ]
  },
  {
   "cell_type": "code",
   "execution_count": 4,
   "id": "8d8d09ee",
   "metadata": {},
   "outputs": [
    {
     "data": {
      "image/png": "[encoded data removed]",
      "text/latex": [
       "$\\displaystyle 5.18737751763962$"
      ],
      "text/plain": [
       "5.18737751763962"
      ]
     },
     "execution_count": 4,
     "metadata": {},
     "output_type": "execute_result"
    }
   ],
   "source": [
    "# We use evalf() method to evaluate a sympy expression as a floating point number (with a certain precision)\n",
    "expr.evalf()"
   ]
  },
  {
   "cell_type": "markdown",
   "id": "b2e9e606",
   "metadata": {},
   "source": [
    "**b)** For large $n\\in\\mathbb{N}$, the factorial $n!$ can be approximated with the Stirling's formula:\n",
    "\n",
    "$$S(n) := \\sqrt{2\\pi n}\\Bigl(\\dfrac{n}{e}\\Bigr)^n$$\n",
    "\n",
    "Define $S$ as a SymPy expression and calculate the relative error given by\n",
    "\n",
    "$$\\dfrac{n! - S(n)}{n!}$$\n",
    "\n",
    "for $n=100$ as a floating point number."
   ]
  },
  {
   "cell_type": "code",
   "execution_count": 5,
   "id": "979bb8bd",
   "metadata": {},
   "outputs": [
    {
     "name": "stdout",
     "output_type": "stream",
     "text": [
      "The relative error at n=100 is 0.000832983432157000.\n"
     ]
    }
   ],
   "source": [
    "# We define S as a sympy expression\n",
    "S = sym.sqrt(2*sym.pi*n)*(n/sym.E)**n\n",
    "\n",
    "# Define the relative error expression\n",
    "err = ((sym.factorial(n) - S)/sym.factorial(n))\n",
    "\n",
    "# Evaluate the error at n=100 (using err.evalf(subs={n:100})) and print\n",
    "print(f\"The relative error at n={100} is {err.evalf(subs={n:100})}.\")"
   ]
  },
  {
   "cell_type": "markdown",
   "id": "d0795a71",
   "metadata": {},
   "source": [
    "**c)** Show that the following two limits hold:\n",
    "\n",
    "$$\\lim_{n\\to\\infty} \\dfrac{n!}{S(n)} = 1$$\n",
    "\n",
    "$$\\lim_{n\\to\\infty} n \\Bigl( \\dfrac{n!}{S(n)} - 1\\Bigr) = \\dfrac{1}{12}$$\n",
    "\n",
    "To do so, define the equations above as SymPy expressions (use ```sym.Eq``` function). "
   ]
  },
  {
   "cell_type": "code",
   "execution_count": 6,
   "id": "8a2b7949",
   "metadata": {},
   "outputs": [
    {
     "data": {
      "image/png": "[encoded data removed]",
      "text/latex": [
       "$\\displaystyle \\lim_{n \\to \\infty}\\left(\\frac{\\sqrt{2} \\left(\\frac{n}{e}\\right)^{- n} n!}{2 \\sqrt{\\pi} \\sqrt{n}}\\right) = 1$"
      ],
      "text/plain": [
       "    ⎛          -n   ⎞    \n",
       "    ⎜   ⎛   -1⎞     ⎟    \n",
       "    ⎜√2⋅⎝n⋅ℯ  ⎠  ⋅n!⎟    \n",
       "lim ⎜───────────────⎟ = 1\n",
       "n─→∞⎝    2⋅√π⋅√n    ⎠    "
      ]
     },
     "metadata": {},
     "output_type": "display_data"
    }
   ],
   "source": [
    "# Check the first limit using sympy.limit function\n",
    "lhs = sym.Limit(sym.factorial(n)/S, n, sym.oo)\n",
    "rhs = sym.limit(sym.factorial(n)/S, n, sym.oo)\n",
    "\n",
    "equation = sym.Eq(lhs,rhs)\n",
    "\n",
    "display(equation)"
   ]
  },
  {
   "cell_type": "code",
   "execution_count": 7,
   "id": "968e07ac",
   "metadata": {},
   "outputs": [
    {
     "data": {
      "image/png": "[encoded data removed]",
      "text/latex": [
       "$\\displaystyle \\lim_{n \\to \\infty}\\left(n \\left(-1 + \\frac{\\sqrt{2} \\left(\\frac{n}{e}\\right)^{- n} n!}{2 \\sqrt{\\pi} \\sqrt{n}}\\right)\\right) = \\frac{1}{12}$"
      ],
      "text/plain": [
       "    ⎛  ⎛               -n   ⎞⎞       \n",
       "    ⎜  ⎜        ⎛   -1⎞     ⎟⎟       \n",
       "    ⎜  ⎜     √2⋅⎝n⋅ℯ  ⎠  ⋅n!⎟⎟       \n",
       "lim ⎜n⋅⎜-1 + ───────────────⎟⎟ = 1/12\n",
       "n─→∞⎝  ⎝         2⋅√π⋅√n    ⎠⎠       "
      ]
     },
     "metadata": {},
     "output_type": "display_data"
    }
   ],
   "source": [
    "# Check the second limit using sympy.limit function\n",
    "lhs = sym.Limit(n*(sym.factorial(n)/S - 1), n, sym.oo)\n",
    "rhs = sym.limit(n*(sym.factorial(n)/S - 1), n, sym.oo)\n",
    "\n",
    "equation = sym.Eq(lhs,rhs)\n",
    "\n",
    "display(equation)"
   ]
  },
  {
   "cell_type": "markdown",
   "id": "8068a1ad",
   "metadata": {},
   "source": [
    "**d)** Define the function $f(x) = 1 - x^2$, and compute the expression of a tangent line that touches $f(x)$ at the point $x_0=(1/2,3/4)$. You can obtain the equation of the tangent line using Taylor expansion (```f.series``` method) at point $x_0$ up to the first-order term. Plot $f(x)$ together with the tangent line."
   ]
  },
  {
   "cell_type": "code",
   "execution_count": 8,
   "id": "487e7af5",
   "metadata": {},
   "outputs": [
    {
     "data": {
      "image/png": "[encoded data removed]",
      "text/plain": [
       "<Figure size 640x480 with 1 Axes>"
      ]
     },
     "metadata": {},
     "output_type": "display_data"
    },
    {
     "data": {
      "text/plain": [
       "<sympy.plotting.plot.Plot at 0x11c70c790>"
      ]
     },
     "execution_count": 8,
     "metadata": {},
     "output_type": "execute_result"
    }
   ],
   "source": [
    "# We define f as a sympy expression\n",
    "f = (1-x**2)\n",
    "\n",
    "# We use f.series method with n=2 to get the first-order Taylor expansion of f at point x0\n",
    "# removeO() method removes the additive O(...) symbol from the expression\n",
    "tangent = f.series(x,x0=1/2, n=2).removeO()\n",
    "\n",
    "sym.plot(f, tangent,(x,0,1))"
   ]
  },
  {
   "cell_type": "markdown",
   "id": "ff9b88be",
   "metadata": {},
   "source": [
    "**e)** The Gaussian density function is given by \n",
    "\n",
    "$$f(x) = \\dfrac{1}{\\sigma\\sqrt{2\\pi}}e^{-\\dfrac{1}{2}\\Bigl(\\dfrac{x-\\mu}{\\sigma}\\Bigr)^2}$$\n",
    "\n",
    "Define $f(x)$ as a SymPy expression. Note that you need to specify that $\\sigma$ is positive in the above expression. Compute the expectation and the variance of the Gaussian distribution using integrals of $x\\cdot f(x)$ and $x^2 \\cdot f(x)$."
   ]
  },
  {
   "cell_type": "code",
   "execution_count": 9,
   "id": "d44f0210",
   "metadata": {},
   "outputs": [
    {
     "data": {
      "image/png": "[encoded data removed]",
      "text/latex": [
       "$\\displaystyle \\mu$"
      ],
      "text/plain": [
       "μ"
      ]
     },
     "execution_count": 9,
     "metadata": {},
     "output_type": "execute_result"
    }
   ],
   "source": [
    "x, mu = sym.symbols(('x', 'mu'))\n",
    "sigma = sym.symbols('sigma', positive=True)\n",
    "\n",
    "f = sym.exp(-sym.Rational(1)/sym.Rational(2)*((x-mu)/sigma)**2)/sigma/sym.sqrt(2*sym.pi)\n",
    "\n",
    "# the expectation is mu\n",
    "E = sym.integrate(x*f, (x, -sym.oo, sym.oo)).simplify()\n",
    "\n",
    "E"
   ]
  },
  {
   "cell_type": "code",
   "execution_count": 10,
   "id": "47f2ce67",
   "metadata": {},
   "outputs": [
    {
     "data": {
      "image/png": "[encoded data removed]",
      "text/latex": [
       "$\\displaystyle \\sigma^{2}$"
      ],
      "text/plain": [
       " 2\n",
       "σ "
      ]
     },
     "execution_count": 10,
     "metadata": {},
     "output_type": "execute_result"
    }
   ],
   "source": [
    "# the variance is sigma^2\n",
    "Var = sym.integrate(x**2*f, (x, -sym.oo, sym.oo)).simplify() - E**2\n",
    "\n",
    "Var"
   ]
  },
  {
   "cell_type": "markdown",
   "id": "599aee54",
   "metadata": {},
   "source": [
    "## Exercise 2: SIS model\n",
    "\n",
    "An alternative to the SIR model of epidemics, which we studied in Exercise 1 of week 10, is the [SIS model](https://de.wikipedia.org/wiki/SIS-Modell). In SIS model, an individual does not become immune after recovering from an infection but becomes susceptible again. Thus, there are only two states: $S$ (susceptible) and $I$ (infectious). As before, there are also two hyperparameters: infection rate $\\beta$ and recovery/death rate $\\gamma$. Then the differential equations system describing the model is given by\n",
    "\n",
    "$$\\dfrac{dS}{dt} = -\\beta IS + \\gamma I, \\quad \\dfrac{dI}{dt} = \\beta IS - \\gamma I$$\n",
    "\n",
    "We further assume that $I+S = 1$ and denote $\\delta := \\beta-\\gamma$. Then the above system simplifies to the following single ODE:\n",
    "\n",
    "$$\\dfrac{dI}{dt} = (\\delta - \\beta I) I$$\n",
    "\n",
    "**a)** Obtain a general solution of the ODE using ```sympy.dsolve``` function. The general solution will depend on a constant $C_1$, which can be specified using initial conditions. "
   ]
  },
  {
   "cell_type": "code",
   "execution_count": 11,
   "id": "1a0b8542",
   "metadata": {},
   "outputs": [
    {
     "data": {
      "image/png": "[encoded data removed]",
      "text/latex": [
       "$\\displaystyle I{\\left(t \\right)} = \\frac{\\delta}{\\beta \\left(1 - e^{\\delta \\left(C_{1} - t\\right)}\\right)}$"
      ],
      "text/plain": [
       "                δ         \n",
       "I(t) = ───────────────────\n",
       "         ⎛     δ⋅(C₁ - t)⎞\n",
       "       β⋅⎝1 - ℯ          ⎠"
      ]
     },
     "execution_count": 11,
     "metadata": {},
     "output_type": "execute_result"
    }
   ],
   "source": [
    "from sympy.abc import beta,gamma,t\n",
    "\n",
    "delta = sym.Symbol('delta', positive=True)\n",
    "I0 = sym.Symbol('I_0')\n",
    "\n",
    "# to define the ODE in sympy, we need to define an unknown function I\n",
    "I = sym.Function('I')\n",
    "\n",
    "# define the equation\n",
    "eq = sym.Eq(I(t).diff(t), (delta-beta*I(t))*I(t))\n",
    "\n",
    "# solve the ODE using sym.dsolve\n",
    "general_solution = sym.dsolve(eq,I(t))\n",
    " \n",
    "# have a look at the solution\n",
    "general_solution"
   ]
  },
  {
   "cell_type": "markdown",
   "id": "a7d932f6",
   "metadata": {},
   "source": [
    "**b)** Incorporate the initial condition $I(0) = I_0$ into the general solution. As a result, you should obtain the ODE solution as a function of $I_0$. To do this, you can compute the general solution at $t=0$ and solve the equation $I(0) = I_0$ for the constant $C_1$."
   ]
  },
  {
   "cell_type": "code",
   "execution_count": 12,
   "id": "d76b09e1",
   "metadata": {},
   "outputs": [
    {
     "data": {
      "image/png": "[encoded data removed]",
      "text/latex": [
       "$\\displaystyle \\frac{I_{0} \\delta e^{\\delta t}}{I_{0} \\beta e^{\\delta t} - I_{0} \\beta + \\delta}$"
      ],
      "text/plain": [
       "           δ⋅t      \n",
       "     I₀⋅δ⋅ℯ         \n",
       "────────────────────\n",
       "      δ⋅t           \n",
       "I₀⋅β⋅ℯ    - I₀⋅β + δ"
      ]
     },
     "execution_count": 12,
     "metadata": {},
     "output_type": "execute_result"
    }
   ],
   "source": [
    "C = sym.Symbol('C1')\n",
    "\n",
    "# to incorporate the initial condition, we can solve the ODE at t=0 for C1 constant\n",
    "init_eq = general_solution.subs([(t,0), (I(0),I0)])\n",
    "C_val = sym.solve(init_eq,C)\n",
    "\n",
    "# then we insert the value of C1 to the general solution\n",
    "ode_solution= general_solution.subs({C:C_val[0]})\n",
    "\n",
    "# then the ODE solution for I(t) is the right hand side of the above expression\n",
    "I = ode_solution.rhs.simplify()\n",
    "\n",
    "I\n",
    "\n",
    "# Alternatively, you can use argument ics of sym.dsolve to incorporate initial conditions (see the documentation)"
   ]
  },
  {
   "cell_type": "markdown",
   "id": "77d5929f",
   "metadata": {},
   "source": [
    "**c)** Check that $1-I(t)$ satisfies the equation for $S(t)$."
   ]
  },
  {
   "cell_type": "code",
   "execution_count": 13,
   "id": "240e054a",
   "metadata": {},
   "outputs": [
    {
     "data": {
      "text/plain": [
       "True"
      ]
     },
     "execution_count": 13,
     "metadata": {},
     "output_type": "execute_result"
    }
   ],
   "source": [
    "# We simply insert the expression for 1-I(t) into the equation for S(t),\n",
    "# substract RHS from LHS and check whether we get zero\n",
    "\n",
    "# Note that gamma = beta - delta\n",
    "((1-I).diff(t)+((beta)*I*(1-I)-(beta-delta)*I)).simplify().is_zero"
   ]
  },
  {
   "cell_type": "markdown",
   "id": "5f24e21f",
   "metadata": {},
   "source": [
    "**d)** The number of infectious individuals $I(t)$ will approach a stable point (equilibrium) over time. Determine the limit of $I(t)$ as $t\\to\\infty$. You need to consider two cases separately here: 1) $\\delta>0$, 2) $\\delta\\leq 0$."
   ]
  },
  {
   "cell_type": "code",
   "execution_count": 14,
   "id": "e48f606b",
   "metadata": {},
   "outputs": [
    {
     "name": "stdout",
     "output_type": "stream",
     "text": [
      "The limit in case delta>0:\n"
     ]
    },
    {
     "data": {
      "image/png": "[encoded data removed]",
      "text/latex": [
       "$\\displaystyle \\frac{\\delta}{\\beta}$"
      ],
      "text/plain": [
       "δ\n",
       "─\n",
       "β"
      ]
     },
     "metadata": {},
     "output_type": "display_data"
    },
    {
     "name": "stdout",
     "output_type": "stream",
     "text": [
      "The limit in case delta<=0:\n"
     ]
    },
    {
     "data": {
      "image/png": "[encoded data removed]",
      "text/latex": [
       "$\\displaystyle 0$"
      ],
      "text/plain": [
       "0"
      ]
     },
     "metadata": {},
     "output_type": "display_data"
    }
   ],
   "source": [
    "# The limit depends on the sign of delta\n",
    "# Therefore, we consider two cases: delta > 0 and delta <=0\n",
    "\n",
    "print(\"The limit in case delta>0:\")\n",
    "display(sym.limit(I,t,sym.oo))\n",
    "\n",
    "print(\"The limit in case delta<=0:\")\n",
    "display(sym.limit(I.subs({delta:-delta}),t,sym.oo))"
   ]
  },
  {
   "cell_type": "markdown",
   "id": "6e0f48c9",
   "metadata": {},
   "source": [
    "**e)** Plot the solutions $S(t), I(t)$ over $t\\in[0,100]$ for $\\beta=0.4$, $\\gamma=0.04$, and initial conditions $S(0)=0.997$, $I(0)=0.03$."
   ]
  },
  {
   "cell_type": "code",
   "execution_count": 15,
   "id": "8a2a5902",
   "metadata": {},
   "outputs": [
    {
     "data": {
      "image/png": "[encoded data removed]",
      "text/plain": [
       "<Figure size 640x480 with 1 Axes>"
      ]
     },
     "metadata": {},
     "output_type": "display_data"
    },
    {
     "data": {
      "text/plain": [
       "<sympy.plotting.plot.Plot at 0x12846c8d0>"
      ]
     },
     "execution_count": 15,
     "metadata": {},
     "output_type": "execute_result"
    }
   ],
   "source": [
    "I_sol = ode_solution.rhs.subs({delta: 0.4-0.04, beta: 0.4, I0: 0.03})\n",
    "S_sol = 1 - I_sol\n",
    "\n",
    "sym.plot(I_sol, S_sol, (t,0,100))"
   ]
  }
 ],
 "metadata": {
  "kernelspec": {
   "display_name": "Python 3 (ipykernel)",
   "language": "python",
   "name": "python3"
  },
  "language_info": {
   "codemirror_mode": {
    "name": "ipython",
    "version": 3
   },
   "file_extension": ".py",
   "mimetype": "text/x-python",
   "name": "python",
   "nbconvert_exporter": "python",
   "pygments_lexer": "ipython3",
   "version": "3.11.5"
  }
 },
 "nbformat": 4,
 "nbformat_minor": 5
}
