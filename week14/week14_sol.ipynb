{
 "cells": [
  {
   "cell_type": "code",
   "execution_count": 1,
   "id": "632401c1",
   "metadata": {},
   "outputs": [],
   "source": [
    "import sympy as sym\n",
    "\n",
    "sym.init_printing()"
   ]
  },
  {
   "cell_type": "markdown",
   "id": "6abb9daf",
   "metadata": {},
   "source": [
    "## Exercise 1: Linear equation\n",
    "\n",
    "**a)** Define the following matrix in Sympy:\n",
    "\n",
    "$$A = \\begin{pmatrix}\n",
    "2 & -1 & \\alpha \\\\\n",
    "-1 & 2 & -1 \\\\\n",
    "\\alpha & -1 & 2 \n",
    "\\end{pmatrix}$$"
   ]
  },
  {
   "cell_type": "code",
   "execution_count": 2,
   "id": "c699ab65",
   "metadata": {},
   "outputs": [
    {
     "data": {
      "image/png": "[encoded data removed]",
      "text/latex": [
       "$\\displaystyle \\left[\\begin{matrix}2 & -1 & \\alpha\\\\-1 & 2 & -1\\\\\\alpha & -1 & 2\\end{matrix}\\right]$"
      ],
      "text/plain": [
       "⎡2   -1  α ⎤\n",
       "⎢          ⎥\n",
       "⎢-1  2   -1⎥\n",
       "⎢          ⎥\n",
       "⎣α   -1  2 ⎦"
      ]
     },
     "execution_count": 2,
     "metadata": {},
     "output_type": "execute_result"
    }
   ],
   "source": [
    "alpha = sym.Symbol('alpha')\n",
    "\n",
    "A = sym.Matrix(3,3, [2,-1,alpha,-1,2,-1,alpha,-1,2])\n",
    "\n",
    "A"
   ]
  },
  {
   "cell_type": "markdown",
   "id": "5a955338",
   "metadata": {},
   "source": [
    "**b)** Compute the determinant of $A$ and factorize it as a polynomial of $\\alpha$. "
   ]
  },
  {
   "cell_type": "code",
   "execution_count": 3,
   "id": "3e16c5e2",
   "metadata": {},
   "outputs": [
    {
     "data": {
      "image/png": "[encoded data removed]",
      "text/latex": [
       "$\\displaystyle - 2 \\alpha^{2} + 2 \\alpha + 4$"
      ],
      "text/plain": [
       "     2          \n",
       "- 2⋅α  + 2⋅α + 4"
      ]
     },
     "execution_count": 3,
     "metadata": {},
     "output_type": "execute_result"
    }
   ],
   "source": [
    "# Compute the determinant of A\n",
    "d = A.det()\n",
    "\n",
    "d"
   ]
  },
  {
   "cell_type": "code",
   "execution_count": 4,
   "id": "4b9564d8",
   "metadata": {},
   "outputs": [
    {
     "data": {
      "image/png": "[encoded data removed]",
      "text/latex": [
       "$\\displaystyle - 2 \\left(\\alpha - 2\\right) \\left(\\alpha + 1\\right)$"
      ],
      "text/plain": [
       "-2⋅(α - 2)⋅(α + 1)"
      ]
     },
     "execution_count": 4,
     "metadata": {},
     "output_type": "execute_result"
    }
   ],
   "source": [
    "# Factorize the determinant\n",
    "\n",
    "d.factor()"
   ]
  },
  {
   "cell_type": "markdown",
   "id": "c45a2682",
   "metadata": {},
   "source": [
    "\n",
    "**c)** Notice that $A$ is positive definite according to  Sylvester's criterion iff its determinant is positive, since the first two leading principal minors are positive. Use Sympy's ```solveset``` function to find when the determinant of $A$ is positive."
   ]
  },
  {
   "cell_type": "code",
   "execution_count": 5,
   "id": "fe3d9cd2",
   "metadata": {},
   "outputs": [
    {
     "data": {
      "image/png": "[encoded data removed]",
      "text/latex": [
       "$\\displaystyle \\left(-1, 2\\right)$"
      ],
      "text/plain": [
       "(-1, 2)"
      ]
     },
     "execution_count": 5,
     "metadata": {},
     "output_type": "execute_result"
    }
   ],
   "source": [
    "sym.solveset(d>0, alpha, domain=sym.Reals)"
   ]
  },
  {
   "cell_type": "markdown",
   "id": "4cefdf00",
   "metadata": {},
   "source": [
    "**d)** Set $\\alpha=1$ and solve a linear equation $Ax=b$ for $x$, where $b=[2,4,6]$."
   ]
  },
  {
   "cell_type": "code",
   "execution_count": 6,
   "id": "609ce2db",
   "metadata": {},
   "outputs": [
    {
     "data": {
      "image/png": "[encoded data removed]",
      "text/latex": [
       "$\\displaystyle \\left[\\begin{matrix}1\\\\5\\\\5\\end{matrix}\\right]$"
      ],
      "text/plain": [
       "⎡1⎤\n",
       "⎢ ⎥\n",
       "⎢5⎥\n",
       "⎢ ⎥\n",
       "⎣5⎦"
      ]
     },
     "execution_count": 6,
     "metadata": {},
     "output_type": "execute_result"
    }
   ],
   "source": [
    "b = sym.Matrix(3,1, [2,4,6])\n",
    "\n",
    "A.subs({alpha: 1}).solve(b)"
   ]
  },
  {
   "cell_type": "markdown",
   "id": "8bef511b",
   "metadata": {},
   "source": [
    "## Exercise 2: Gambler's Ruin\n",
    "\n",
    "Consider the following two-player game: Alice and Bob toss a fair coin. In case of heads, Alice gets one euro from Bob, otherwise Bob gets one euro from Alice. Alice starts with 2 euros. The game ends if Alice has 4 euros or if she has lost all the money. \n",
    "\n",
    "This game can be illustrated by the following state graph, where the states' numbers indicate how much money Alice currently has, and the weights of arrows indicate the transition probabilities.\n",
    "\n",
    "![](https://raw.githubusercontent.com/mselezniova/CompMath23/media/images/week14/game.png)\n",
    "\n",
    "**a)** Create the transition matrix of the game $M$, where $M_{i,j}$ is the probability to transition from state $i$ to state $j$."
   ]
  },
  {
   "cell_type": "code",
   "execution_count": 7,
   "id": "628ee464",
   "metadata": {},
   "outputs": [
    {
     "data": {
      "image/png": "[encoded data removed]",
      "text/latex": [
       "$\\displaystyle \\left[\\begin{matrix}1 & 0 & 0 & 0 & 0\\\\\\frac{1}{2} & 0 & \\frac{1}{2} & 0 & 0\\\\0 & \\frac{1}{2} & 0 & \\frac{1}{2} & 0\\\\0 & 0 & \\frac{1}{2} & 0 & \\frac{1}{2}\\\\0 & 0 & 0 & 0 & 1\\end{matrix}\\right]$"
      ],
      "text/plain": [
       "⎡ 1    0    0    0    0 ⎤\n",
       "⎢                       ⎥\n",
       "⎢1/2   0   1/2   0    0 ⎥\n",
       "⎢                       ⎥\n",
       "⎢ 0   1/2   0   1/2   0 ⎥\n",
       "⎢                       ⎥\n",
       "⎢ 0    0   1/2   0   1/2⎥\n",
       "⎢                       ⎥\n",
       "⎣ 0    0    0    0    1 ⎦"
      ]
     },
     "execution_count": 7,
     "metadata": {},
     "output_type": "execute_result"
    }
   ],
   "source": [
    "N = 5 # the number of states\n",
    "\n",
    "half = sym.Rational(1,2)\n",
    "\n",
    "# We can generate a matrix using a function\n",
    "def M_ij(i,j):\n",
    "    if (( j == 0 and i== 0) or (j == N-1 and i== N-1)): \n",
    "        return 1 \n",
    "    elif (i > 0 and i < N-1 and j == i-1):\n",
    "        return half \n",
    "    elif (i > 0 and i < N-1 and j == i+1):\n",
    "        return half\n",
    "    else:\n",
    "        return 0\n",
    "\n",
    "M = sym.Matrix(N,N, M_ij)\n",
    "\n",
    "M"
   ]
  },
  {
   "cell_type": "markdown",
   "id": "1b029b47",
   "metadata": {},
   "source": [
    "**b)** The matrix power $M^t$ gives the transition probabilities after $t$ rounds. Determine $M^\\infty = \\lim_{t\\to\\infty} M^t$.\n",
    "\n",
    "*Hint: You can diagonalize $M$ and find the limit of powers of the the diagonal matrix components.*"
   ]
  },
  {
   "cell_type": "code",
   "execution_count": 8,
   "id": "71bfd79e",
   "metadata": {},
   "outputs": [
    {
     "data": {
      "image/png": "[encoded data removed]",
      "text/latex": [
       "$\\displaystyle \\left[\\begin{matrix}1 & 0 & 0 & 0 & 0\\\\\\frac{3}{4} & 0 & 0 & 0 & \\frac{1}{4}\\\\\\frac{1}{2} & 0 & 0 & 0 & \\frac{1}{2}\\\\\\frac{1}{4} & 0 & 0 & 0 & \\frac{3}{4}\\\\0 & 0 & 0 & 0 & 1\\end{matrix}\\right]$"
      ],
      "text/plain": [
       "⎡ 1   0  0  0   0 ⎤\n",
       "⎢                 ⎥\n",
       "⎢3/4  0  0  0  1/4⎥\n",
       "⎢                 ⎥\n",
       "⎢1/2  0  0  0  1/2⎥\n",
       "⎢                 ⎥\n",
       "⎢1/4  0  0  0  3/4⎥\n",
       "⎢                 ⎥\n",
       "⎣ 0   0  0  0   1 ⎦"
      ]
     },
     "execution_count": 8,
     "metadata": {},
     "output_type": "execute_result"
    }
   ],
   "source": [
    "n = sym.Symbol('n')\n",
    "\n",
    "# diagonalize the matrix M\n",
    "V,D = M.diagonalize()\n",
    "\n",
    "# find limits of the diagonal elements and form the limit of the diagonal matrix\n",
    "D_lim = sym.diag(*[sym.limit_seq(D[i,i]**n,n) for i in range(N)])\n",
    "\n",
    "# use the limit of D to find the limit of M\n",
    "M_lim = V*D_lim*V**-1  \n",
    "\n",
    "M_lim"
   ]
  },
  {
   "cell_type": "markdown",
   "id": "dd947e2a",
   "metadata": {},
   "source": [
    "**c)** Determine the probability that Alice will go bankrupt. To do so, create a vector $v=[0,0,1,0]$ and calculate $vM^\\infty$."
   ]
  },
  {
   "cell_type": "code",
   "execution_count": 11,
   "id": "f55b0169",
   "metadata": {},
   "outputs": [
    {
     "data": {
      "image/png": "[encoded data removed]",
      "text/latex": [
       "$\\displaystyle \\frac{1}{2}$"
      ],
      "text/plain": [
       "1/2"
      ]
     },
     "execution_count": 11,
     "metadata": {},
     "output_type": "execute_result"
    }
   ],
   "source": [
    "m = 2 # the index of the initial state (state 2 has index 2 in our case)\n",
    "\n",
    "# We can generate the vector using a function\n",
    "def v_ij(i,j):\n",
    "    if j==m:\n",
    "        return 1\n",
    "    else:\n",
    "        return 0\n",
    "    \n",
    "v = sym.Matrix(1,N, v_ij)\n",
    "\n",
    "(v*M_lim)[0]"
   ]
  },
  {
   "cell_type": "markdown",
   "id": "7b7df8cb",
   "metadata": {},
   "source": [
    "**d)** What happens with the probability of bankruptcy if the game ends not when Alice has 4 euros but when she has 5 or 6 euros?"
   ]
  },
  {
   "cell_type": "code",
   "execution_count": 19,
   "id": "14e78340",
   "metadata": {},
   "outputs": [],
   "source": [
    "# Running the code above for N=5,6,7,etc. shows that the probability of bankruptcy increases with N"
   ]
  }
 ],
 "metadata": {
  "kernelspec": {
   "display_name": "Python 3 (ipykernel)",
   "language": "python",
   "name": "python3"
  },
  "language_info": {
   "codemirror_mode": {
    "name": "ipython",
    "version": 3
   },
   "file_extension": ".py",
   "mimetype": "text/x-python",
   "name": "python",
   "nbconvert_exporter": "python",
   "pygments_lexer": "ipython3",
   "version": "3.11.5"
  }
 },
 "nbformat": 4,
 "nbformat_minor": 5
}
